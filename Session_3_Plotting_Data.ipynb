{
  "nbformat": 4,
  "nbformat_minor": 0,
  "metadata": {
    "colab": {
      "name": "Session #3: Plotting Data.ipynb",
      "provenance": [],
      "collapsed_sections": []
    },
    "kernelspec": {
      "name": "python3",
      "display_name": "Python 3"
    }
  },
  "cells": [
    {
      "cell_type": "markdown",
      "metadata": {
        "id": "wsT82TtClI1O",
        "colab_type": "text"
      },
      "source": [
        "# Plotting Data\n",
        "**Pandas represents CSVs using a data structure called a DataFrame.**\n",
        "*   What is a CSV?\n",
        "*   What is a data structure?\n",
        "\n",
        "**Additional questions:**\n",
        "*   How do you import in Python?\n",
        "*   How do you write a comment in Python?\n",
        "*   How do you print in Python? How is it different from printing in other languages?\n",
        "\n",
        "**Bonus question:**\n",
        "*    What is snake case? What is camel case? When do we use one over the other?\n",
        "\n"
      ]
    },
    {
      "cell_type": "code",
      "metadata": {
        "id": "82VPuxHYgIsR",
        "colab_type": "code",
        "outputId": "d48c523b-20a3-40f3-881a-b8c05bd9d143",
        "colab": {
          "base_uri": "https://localhost:8080/",
          "height": 459
        }
      },
      "source": [
        "# Hey! Before you begin, how do you execute a code cell?\n",
        "# What's the different between a code cell and a text cell in Google Colab?\n",
        "# What exactly is Google Colab?\n",
        "\n",
        "import pandas as pd\n",
        "\n",
        "# Get MNIST dataset and look at contents\n",
        "mnist_dataset = pd.read_csv('sample_data/mnist_train_small.csv')\n",
        "print(mnist_dataset)\n",
        "mnist_dataset.iloc[1]"
      ],
      "execution_count": 0,
      "outputs": [
        {
          "output_type": "stream",
          "text": [
            "       6  0  0.1  0.2  0.3  0.4  ...  0.585  0.586  0.587  0.588  0.589  0.590\n",
            "0      5  0    0    0    0    0  ...      0      0      0      0      0      0\n",
            "1      7  0    0    0    0    0  ...      0      0      0      0      0      0\n",
            "2      9  0    0    0    0    0  ...      0      0      0      0      0      0\n",
            "3      5  0    0    0    0    0  ...      0      0      0      0      0      0\n",
            "4      2  0    0    0    0    0  ...      0      0      0      0      0      0\n",
            "...   .. ..  ...  ...  ...  ...  ...    ...    ...    ...    ...    ...    ...\n",
            "19994  0  0    0    0    0    0  ...      0      0      0      0      0      0\n",
            "19995  1  0    0    0    0    0  ...      0      0      0      0      0      0\n",
            "19996  2  0    0    0    0    0  ...      0      0      0      0      0      0\n",
            "19997  9  0    0    0    0    0  ...      0      0      0      0      0      0\n",
            "19998  5  0    0    0    0    0  ...      0      0      0      0      0      0\n",
            "\n",
            "[19999 rows x 785 columns]\n"
          ],
          "name": "stdout"
        },
        {
          "output_type": "execute_result",
          "data": {
            "text/plain": [
              "6        7\n",
              "0        0\n",
              "0.1      0\n",
              "0.2      0\n",
              "0.3      0\n",
              "        ..\n",
              "0.586    0\n",
              "0.587    0\n",
              "0.588    0\n",
              "0.589    0\n",
              "0.590    0\n",
              "Name: 1, Length: 785, dtype: int64"
            ]
          },
          "metadata": {
            "tags": []
          },
          "execution_count": 4
        }
      ]
    },
    {
      "cell_type": "markdown",
      "metadata": {
        "id": "zVkVo0hzlZaH",
        "colab_type": "text"
      },
      "source": [
        "Skim the documentation for DataFrame here: https://pandas.pydata.org/pandas-docs/stable/reference/api/pandas.DataFrame.html\n",
        "\n",
        "Then, complete the tasks below!"
      ]
    },
    {
      "cell_type": "code",
      "metadata": {
        "id": "twJ0gzvvkRo2",
        "colab_type": "code",
        "outputId": "9b27c06b-7a1f-4304-942b-81766366bb41",
        "colab": {
          "base_uri": "https://localhost:8080/",
          "height": 289
        }
      },
      "source": [
        "# Print the columns in mnist_dataset, what does each column represent?\n",
        "print(mnist_dataset.columns)\n",
        "\n",
        "# Print the index in mnist_dataset, what does each index represent?\n",
        "print(mnist_dataset.index)\n",
        "\n",
        "# Print the ndim, shape, and size in mnist_dataset, what do ndim, shape, and size represent?\n",
        "# What relationships do you see between ndim, shape, and size?\n",
        "print(mnist_dataset.ndim)\n",
        "print(mnist_dataset.shape)\n",
        "print(mnist_dataset.size)\n",
        "\n",
        "# Get a NumPy representation of mnist_dataset and save it to a variable called np_mnist_dataset\n",
        "# Print np_mnist_dataset\n",
        "# What are some differences between NumPy arrays and DataFrames?\n",
        "np_mnist_dataset = mnist_dataset.values\n",
        "print(np_mnist_dataset)"
      ],
      "execution_count": 0,
      "outputs": [
        {
          "output_type": "stream",
          "text": [
            "Index(['6', '0', '0.1', '0.2', '0.3', '0.4', '0.5', '0.6', '0.7', '0.8',\n",
            "       ...\n",
            "       '0.581', '0.582', '0.583', '0.584', '0.585', '0.586', '0.587', '0.588',\n",
            "       '0.589', '0.590'],\n",
            "      dtype='object', length=785)\n",
            "RangeIndex(start=0, stop=19999, step=1)\n",
            "2\n",
            "(19999, 785)\n",
            "15699215\n",
            "[[5 0 0 ... 0 0 0]\n",
            " [7 0 0 ... 0 0 0]\n",
            " [9 0 0 ... 0 0 0]\n",
            " ...\n",
            " [2 0 0 ... 0 0 0]\n",
            " [9 0 0 ... 0 0 0]\n",
            " [5 0 0 ... 0 0 0]]\n"
          ],
          "name": "stdout"
        }
      ]
    },
    {
      "cell_type": "markdown",
      "metadata": {
        "id": "S4M9Y8XUowAZ",
        "colab_type": "text"
      },
      "source": [
        "Each row contains data for a single image of a handwritten digit.\n",
        "*    What do the values in each row mean?\n",
        "\n",
        ">   *   What is the value at the first position (position 0)?\n",
        ">   *   What are the values in the other positions?\n",
        ">   *   Based on the information you printed above, how many values are in each row?\n",
        ">   *   What can you conclude about the size of each image in the dataset (hint: each image is a square)?\n",
        "\n",
        "**We are now going to visualize each image using matplotlib, a Python plotting library.**\n",
        ">   *   Why could matplotlib be more useful than Excel or Desmos? Who uses matplotlib and how?\n",
        "\n",
        "Here are some hints for the task below:\n",
        "*    To plot an image, use: plt.imshow(name_of_numpy_array_containing_data)\n",
        "*    To get the *n*th image in np_mnist_dataset, use: np_mnist_dataset[n]\n",
        "*    To select the data in between positions *a* (inclusive) and *b* (exclusive) in row *n*, use: np_mnist_dataset[n][a:b]\n",
        "*    To select the data in between the beginning and *b* (exclusive) in row *n*, use: np_mnist_dataset[n][:b]\n",
        "*    To select the data in between position *a* (inclusive) and the end in row *n*, use: np_mnist_dataset[n][a:]\n",
        "*   To reshape row *n* into a NumPy array of size (c, d), use: np_mnist_dataset[n].reshape((c, d))\n",
        "\n",
        "\n",
        "\n"
      ]
    },
    {
      "cell_type": "code",
      "metadata": {
        "id": "gErPLNbYmXag",
        "colab_type": "code",
        "outputId": "22bb1585-73d2-4233-aa54-09ab60683dab",
        "colab": {
          "base_uri": "https://localhost:8080/",
          "height": 282
        }
      },
      "source": [
        "import matplotlib.pyplot as plt\n",
        "\n",
        "# Print the 22nd image in the dataset.\n",
        "# What number do you see?\n",
        "plt.imshow(np_mnist_dataset[21][1:].reshape((28, 28)), cmap='Greys')"
      ],
      "execution_count": 0,
      "outputs": [
        {
          "output_type": "execute_result",
          "data": {
            "text/plain": [
              "<matplotlib.image.AxesImage at 0x7f55d542da20>"
            ]
          },
          "metadata": {
            "tags": []
          },
          "execution_count": 6
        },
        {
          "output_type": "display_data",
          "data": {
            "image/png": "[encoded data removed]",
            "text/plain": [
              "<Figure size 432x288 with 1 Axes>"
            ]
          },
          "metadata": {
            "tags": []
          }
        }
      ]
    },
    {
      "cell_type": "markdown",
      "metadata": {
        "id": "fCVGWV-9ROW1",
        "colab_type": "text"
      },
      "source": [
        "# Plotting Sea Level Data\n",
        "**Steps:**\n",
        "\n",
        "1. Run the code block below to download the sea level dataset.\n",
        "> Question: The commands below are called shell commands. What do you think the commands below do?"
      ]
    },
    {
      "cell_type": "code",
      "metadata": {
        "id": "htsr5kVvpRGg",
        "colab_type": "code",
        "outputId": "86c8526c-0774-45fb-9619-92bbd872748c",
        "colab": {
          "base_uri": "https://localhost:8080/",
          "height": 272
        }
      },
      "source": [
        "!wget http://www3.epa.gov/climatechange/images/indicator_downloads/sea-level_fig-1.csv\n",
        "!mv sea-level_fig-1.csv sealevel.csv"
      ],
      "execution_count": 0,
      "outputs": [
        {
          "output_type": "stream",
          "text": [
            "--2019-10-30 19:17:16--  http://www3.epa.gov/climatechange/images/indicator_downloads/sea-level_fig-1.csv\n",
            "Resolving www3.epa.gov (www3.epa.gov)... 134.67.21.34, 2620:117:506f:15::f022\n",
            "Connecting to www3.epa.gov (www3.epa.gov)|134.67.21.34|:80... connected.\n",
            "HTTP request sent, awaiting response... 301 Moved Permanently\n",
            "Location: https://www3.epa.gov/climatechange/images/indicator_downloads/sea-level_fig-1.csv [following]\n",
            "--2019-10-30 19:17:17--  https://www3.epa.gov/climatechange/images/indicator_downloads/sea-level_fig-1.csv\n",
            "Connecting to www3.epa.gov (www3.epa.gov)|134.67.21.34|:443... connected.\n",
            "HTTP request sent, awaiting response... 200 OK\n",
            "Length: 6394 (6.2K) [text/csv]\n",
            "Saving to: ‘sea-level_fig-1.csv’\n",
            "\n",
            "sea-level_fig-1.csv 100%[===================>]   6.24K  --.-KB/s    in 0s      \n",
            "\n",
            "2019-10-30 19:17:17 (94.3 MB/s) - ‘sea-level_fig-1.csv’ saved [6394/6394]\n",
            "\n"
          ],
          "name": "stdout"
        }
      ]
    },
    {
      "cell_type": "markdown",
      "metadata": {
        "id": "RXyZ8uktRzVH",
        "colab_type": "text"
      },
      "source": [
        "2. Run the code block below to plot the sea level data.\n",
        "> Question: What does \"%matplotlib notebook\" do?\n",
        "3. Play around with the code and think about different ways in which the data could be visualized.\n",
        "> Challenge: visualize the data in histogram form :)"
      ]
    },
    {
      "cell_type": "code",
      "metadata": {
        "id": "bb-_c6PHSVGw",
        "colab_type": "code",
        "outputId": "c14b8d92-b596-483c-cf82-da055286c4cd",
        "colab": {
          "base_uri": "https://localhost:8080/",
          "height": 295
        }
      },
      "source": [
        "import numpy as np\n",
        "d = pd.read_csv('sealevel.csv').values\n",
        "years = np.asarray(d[6:, 0], dtype=np.float32)\n",
        "sea_levels = np.asarray(d[6:, 1] ,dtype=np.float32)\n",
        "\n",
        "plt.scatter(years, sea_levels, edgecolors='r')\n",
        "plt.xlabel('Year')\n",
        "plt.ylabel('Sea Level (inches)')\n",
        "plt.title('Rise in Sealevel')\n",
        "plt.show()"
      ],
      "execution_count": 0,
      "outputs": [
        {
          "output_type": "display_data",
          "data": {
            "image/png": "[encoded data removed]",
            "text/plain": [
              "<Figure size 432x288 with 1 Axes>"
            ]
          },
          "metadata": {
            "tags": []
          }
        }
      ]
    }
  ]
}